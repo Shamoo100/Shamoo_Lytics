{
 "cells": [
  {
   "cell_type": "code",
   "execution_count": 6,
   "metadata": {},
   "outputs": [],
   "source": [
    "from bs4 import BeautifulSoup\n",
    "import requests"
   ]
  },
  {
   "cell_type": "code",
   "execution_count": 7,
   "metadata": {},
   "outputs": [
    {
     "name": "stdout",
     "output_type": "stream",
     "text": [
      "{'followers': '1,313', 'following': '1,616', 'posts': '4'}\n"
     ]
    }
   ],
   "source": [
    "URL = 'https://www.instagram.com/{}/'\n",
    "def parse_data(s):\n",
    "    data = {}\n",
    "    \n",
    "    s = s.split(\"-\")[0]\n",
    "    s = s.split(\" \")\n",
    "    \n",
    "    data['followers'] =s[0]\n",
    "    data['following'] =s[2]\n",
    "    data['posts']     =s[4]\n",
    "    return data\n",
    "def  scrape_data(username):\n",
    "    r = requests.get(URL.format(username))\n",
    "    s = BeautifulSoup(r.text, 'html.parser')\n",
    "    meta = s.find('meta', property ='og:description')\n",
    "    return parse_data(meta.attrs['content'])\n",
    "if __name__ == '__main__':\n",
    "    username = 'shamoo_100'\n",
    "    data= scrape_data(username)\n",
    "    print(data)"
   ]
  },
  {
   "cell_type": "code",
   "execution_count": 2,
   "metadata": {},
   "outputs": [
    {
     "name": "stdout",
     "output_type": "stream",
     "text": [
      "enter text: deen\n",
      "enter char: on\n",
      "word not found\n"
     ]
    }
   ],
   "source": [
    "def search(text, char):\n",
    "    if char in text:\n",
    "        return 'Word Found'\n",
    "    return 'word not found'\n",
    "\n",
    "text = input('enter text: ')\n",
    "char = input('enter char: ')\n",
    "\n",
    "print(search(text,char))"
   ]
  },
  {
   "cell_type": "code",
   "execution_count": 10,
   "metadata": {},
   "outputs": [
    {
     "name": "stdout",
     "output_type": "stream",
     "text": [
      "Reverse String using slicing =  FEDCBA\n"
     ]
    }
   ],
   "source": [
    "#Ways to reverse string using slicing\n",
    "\n",
    "def reverse_slicing(s):\n",
    "    return s[::-1]\n",
    "input_str = 'ABCDEF'\n",
    "\n",
    "if __name__ == \"__main__\":\n",
    "    print('Reverse String using slicing = ', reverse_slicing(input_str))"
   ]
  },
  {
   "cell_type": "code",
   "execution_count": 20,
   "metadata": {},
   "outputs": [
    {
     "name": "stdout",
     "output_type": "stream",
     "text": [
      "Reverse String using slicing =  FEDCBA\n"
     ]
    }
   ],
   "source": [
    "#using while loop \n",
    "def rvwlp(s):\n",
    "    s1 = ''\n",
    "    length = len(s)-1\n",
    "    while length >= 0:\n",
    "        s1 = s1 + s[length]\n",
    "        length = length -1\n",
    "    return s1\n",
    "input_str = 'ABCDEF'\n",
    " \n",
    "if __name__ == \"__main__\":\n",
    "    print('Reverse String using slicing = ', rvwlp(input_str))    "
   ]
  },
  {
   "cell_type": "code",
   "execution_count": 19,
   "metadata": {},
   "outputs": [
    {
     "name": "stdout",
     "output_type": "stream",
     "text": [
      "Reverse String using slicing =  FEDCBA\n"
     ]
    }
   ],
   "source": [
    "#using rverse and join\n",
    "def reverse_join_reversed_iter(s):\n",
    "    s1 = ''.join(reversed(s))\n",
    "    return s1\n",
    "\n",
    "input_str = 'ABCDEF'\n",
    "if __name__ == \"__main__\":\n",
    "    print('Reverse String using slicing = ', reverse_join_reversed_iter(input_str)) "
   ]
  },
  {
   "cell_type": "code",
   "execution_count": 24,
   "metadata": {},
   "outputs": [
    {
     "name": "stdout",
     "output_type": "stream",
     "text": [
      "Reverse String using slicing =  FEDCBA\n"
     ]
    }
   ],
   "source": [
    "#using recurstion\n",
    "def reverse_recursion(s):\n",
    "    if len(s) == 0:\n",
    "        return s\n",
    "    else:\n",
    "        return reverse_recursion(s[1:]) + s[0]\n",
    "input_str = 'ABCDEF'\n",
    "if __name__ == \"__main__\":\n",
    "    print('Reverse String using slicing = ', reverse_recursion(input_str)) \n"
   ]
  },
  {
   "cell_type": "code",
   "execution_count": null,
   "metadata": {},
   "outputs": [],
   "source": [
    "#Convert pdf file to audio speech \n",
    "\n",
    "import pyttsx3\n",
    "import pyPDF2\n",
    "\n",
    "path = open(''.'rb')\n",
    "pdfreader = PyPDF2.PdfFileReader(path)\n",
    "from_page = pdfReader.getPage(0)\n",
    "text = from_page.extractText()\n",
    "\n",
    "\n",
    "speak = pyttsx3.init()\n",
    "speak.say(text)\n",
    "speak.runAndWait()"
   ]
  }
 ],
 "metadata": {
  "kernelspec": {
   "display_name": "Python 3",
   "language": "python",
   "name": "python3"
  },
  "language_info": {
   "codemirror_mode": {
    "name": "ipython",
    "version": 3
   },
   "file_extension": ".py",
   "mimetype": "text/x-python",
   "name": "python",
   "nbconvert_exporter": "python",
   "pygments_lexer": "ipython3",
   "version": "3.7.4"
  }
 },
 "nbformat": 4,
 "nbformat_minor": 2
}
