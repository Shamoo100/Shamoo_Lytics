{
 "cells": [
  {
   "cell_type": "code",
   "execution_count": 1,
   "metadata": {},
   "outputs": [],
   "source": [
    "import requests\n",
    "import pandas as pd\n",
    "from bs4 import BeautifulSoup"
   ]
  },
  {
   "cell_type": "code",
   "execution_count": 2,
   "metadata": {},
   "outputs": [
    {
     "ename": "WebDriverException",
     "evalue": "Message: 'chromedriver_win32' executable may have wrong permissions. Please see https://sites.google.com/a/chromium.org/chromedriver/home\n",
     "output_type": "error",
     "traceback": [
      "\u001b[1;31m---------------------------------------------------------------------------\u001b[0m",
      "\u001b[1;31mPermissionError\u001b[0m                           Traceback (most recent call last)",
      "\u001b[1;32m~\\AppData\\Local\\Continuum\\anaconda3\\lib\\site-packages\\selenium\\webdriver\\common\\service.py\u001b[0m in \u001b[0;36mstart\u001b[1;34m(self)\u001b[0m\n\u001b[0;32m     75\u001b[0m                                             \u001b[0mstderr\u001b[0m\u001b[1;33m=\u001b[0m\u001b[0mself\u001b[0m\u001b[1;33m.\u001b[0m\u001b[0mlog_file\u001b[0m\u001b[1;33m,\u001b[0m\u001b[1;33m\u001b[0m\u001b[1;33m\u001b[0m\u001b[0m\n\u001b[1;32m---> 76\u001b[1;33m                                             stdin=PIPE)\n\u001b[0m\u001b[0;32m     77\u001b[0m         \u001b[1;32mexcept\u001b[0m \u001b[0mTypeError\u001b[0m\u001b[1;33m:\u001b[0m\u001b[1;33m\u001b[0m\u001b[1;33m\u001b[0m\u001b[0m\n",
      "\u001b[1;32m~\\AppData\\Local\\Continuum\\anaconda3\\lib\\subprocess.py\u001b[0m in \u001b[0;36m__init__\u001b[1;34m(self, args, bufsize, executable, stdin, stdout, stderr, preexec_fn, close_fds, shell, cwd, env, universal_newlines, startupinfo, creationflags, restore_signals, start_new_session, pass_fds, encoding, errors, text)\u001b[0m\n\u001b[0;32m    774\u001b[0m                                 \u001b[0merrread\u001b[0m\u001b[1;33m,\u001b[0m \u001b[0merrwrite\u001b[0m\u001b[1;33m,\u001b[0m\u001b[1;33m\u001b[0m\u001b[1;33m\u001b[0m\u001b[0m\n\u001b[1;32m--> 775\u001b[1;33m                                 restore_signals, start_new_session)\n\u001b[0m\u001b[0;32m    776\u001b[0m         \u001b[1;32mexcept\u001b[0m\u001b[1;33m:\u001b[0m\u001b[1;33m\u001b[0m\u001b[1;33m\u001b[0m\u001b[0m\n",
      "\u001b[1;32m~\\AppData\\Local\\Continuum\\anaconda3\\lib\\subprocess.py\u001b[0m in \u001b[0;36m_execute_child\u001b[1;34m(self, args, executable, preexec_fn, close_fds, pass_fds, cwd, env, startupinfo, creationflags, shell, p2cread, p2cwrite, c2pread, c2pwrite, errread, errwrite, unused_restore_signals, unused_start_new_session)\u001b[0m\n\u001b[0;32m   1177\u001b[0m                                          \u001b[0mos\u001b[0m\u001b[1;33m.\u001b[0m\u001b[0mfspath\u001b[0m\u001b[1;33m(\u001b[0m\u001b[0mcwd\u001b[0m\u001b[1;33m)\u001b[0m \u001b[1;32mif\u001b[0m \u001b[0mcwd\u001b[0m \u001b[1;32mis\u001b[0m \u001b[1;32mnot\u001b[0m \u001b[1;32mNone\u001b[0m \u001b[1;32melse\u001b[0m \u001b[1;32mNone\u001b[0m\u001b[1;33m,\u001b[0m\u001b[1;33m\u001b[0m\u001b[1;33m\u001b[0m\u001b[0m\n\u001b[1;32m-> 1178\u001b[1;33m                                          startupinfo)\n\u001b[0m\u001b[0;32m   1179\u001b[0m             \u001b[1;32mfinally\u001b[0m\u001b[1;33m:\u001b[0m\u001b[1;33m\u001b[0m\u001b[1;33m\u001b[0m\u001b[0m\n",
      "\u001b[1;31mPermissionError\u001b[0m: [WinError 5] Access is denied",
      "\nDuring handling of the above exception, another exception occurred:\n",
      "\u001b[1;31mWebDriverException\u001b[0m                        Traceback (most recent call last)",
      "\u001b[1;32m<ipython-input-2-013d3850cb68>\u001b[0m in \u001b[0;36m<module>\u001b[1;34m\u001b[0m\n\u001b[0;32m      5\u001b[0m \u001b[1;31m# Put the path for your ChromeDriver here\u001b[0m\u001b[1;33m\u001b[0m\u001b[1;33m\u001b[0m\u001b[1;33m\u001b[0m\u001b[0m\n\u001b[0;32m      6\u001b[0m \u001b[1;31m#DRIVER_PATH = r'C:\\Users\\iDAFAdmin\\Downloads\\chromedriver_win32\\chromedriver.exe'\u001b[0m\u001b[1;33m\u001b[0m\u001b[1;33m\u001b[0m\u001b[1;33m\u001b[0m\u001b[0m\n\u001b[1;32m----> 7\u001b[1;33m \u001b[0mwd\u001b[0m \u001b[1;33m=\u001b[0m \u001b[0mwebdriver\u001b[0m\u001b[1;33m.\u001b[0m\u001b[0mChrome\u001b[0m\u001b[1;33m(\u001b[0m\u001b[0mexecutable_path\u001b[0m\u001b[1;33m=\u001b[0m \u001b[1;34mr'C:\\Users\\iDAFAdmin\\OneDrive - Data Wrangling\\Documents\\Clock by Dreck\\chromedriver_win32'\u001b[0m\u001b[1;33m)\u001b[0m\u001b[1;33m\u001b[0m\u001b[1;33m\u001b[0m\u001b[0m\n\u001b[0m",
      "\u001b[1;32m~\\AppData\\Local\\Continuum\\anaconda3\\lib\\site-packages\\selenium\\webdriver\\chrome\\webdriver.py\u001b[0m in \u001b[0;36m__init__\u001b[1;34m(self, executable_path, port, options, service_args, desired_capabilities, service_log_path, chrome_options, keep_alive)\u001b[0m\n\u001b[0;32m     71\u001b[0m             \u001b[0mservice_args\u001b[0m\u001b[1;33m=\u001b[0m\u001b[0mservice_args\u001b[0m\u001b[1;33m,\u001b[0m\u001b[1;33m\u001b[0m\u001b[1;33m\u001b[0m\u001b[0m\n\u001b[0;32m     72\u001b[0m             log_path=service_log_path)\n\u001b[1;32m---> 73\u001b[1;33m         \u001b[0mself\u001b[0m\u001b[1;33m.\u001b[0m\u001b[0mservice\u001b[0m\u001b[1;33m.\u001b[0m\u001b[0mstart\u001b[0m\u001b[1;33m(\u001b[0m\u001b[1;33m)\u001b[0m\u001b[1;33m\u001b[0m\u001b[1;33m\u001b[0m\u001b[0m\n\u001b[0m\u001b[0;32m     74\u001b[0m \u001b[1;33m\u001b[0m\u001b[0m\n\u001b[0;32m     75\u001b[0m         \u001b[1;32mtry\u001b[0m\u001b[1;33m:\u001b[0m\u001b[1;33m\u001b[0m\u001b[1;33m\u001b[0m\u001b[0m\n",
      "\u001b[1;32m~\\AppData\\Local\\Continuum\\anaconda3\\lib\\site-packages\\selenium\\webdriver\\common\\service.py\u001b[0m in \u001b[0;36mstart\u001b[1;34m(self)\u001b[0m\n\u001b[0;32m     86\u001b[0m                 raise WebDriverException(\n\u001b[0;32m     87\u001b[0m                     \"'%s' executable may have wrong permissions. %s\" % (\n\u001b[1;32m---> 88\u001b[1;33m                         os.path.basename(self.path), self.start_error_message)\n\u001b[0m\u001b[0;32m     89\u001b[0m                 )\n\u001b[0;32m     90\u001b[0m             \u001b[1;32melse\u001b[0m\u001b[1;33m:\u001b[0m\u001b[1;33m\u001b[0m\u001b[1;33m\u001b[0m\u001b[0m\n",
      "\u001b[1;31mWebDriverException\u001b[0m: Message: 'chromedriver_win32' executable may have wrong permissions. Please see https://sites.google.com/a/chromium.org/chromedriver/home\n"
     ]
    }
   ],
   "source": [
    "import selenium\n",
    "from selenium import webdriver\n",
    "# This is the path I use\n",
    "# DRIVER_PATH = '.../Desktop/Scraping/chromedriver 2'\n",
    "# Put the path for your ChromeDriver here\n",
    "#DRIVER_PATH = r'C:\\Users\\iDAFAdmin\\Downloads\\chromedriver_win32\\chromedriver.exe'\n",
    "wd = webdriver.Chrome(executable_path= r'C:\\Users\\iDAFAdmin\\OneDrive - Data Wrangling\\Documents\\Clock by Dreck\\chromedriver_win32')"
   ]
  },
  {
   "cell_type": "code",
   "execution_count": 7,
   "metadata": {},
   "outputs": [],
   "source": [
    "wd.get('https://google.com')"
   ]
  },
  {
   "cell_type": "code",
   "execution_count": 8,
   "metadata": {},
   "outputs": [],
   "source": [
    "search_box = wd.find_element_by_css_selector('input.gLFyf')\n",
    "search_box.send_keys('Dogs')"
   ]
  },
  {
   "cell_type": "code",
   "execution_count": 9,
   "metadata": {},
   "outputs": [],
   "source": [
    "wd.quit()"
   ]
  },
  {
   "cell_type": "code",
   "execution_count": 4,
   "metadata": {},
   "outputs": [],
   "source": [
    "def fetch_image_urls(query:str, max_links_to_fetch:int, wd:webdriver, sleep_between_interactions:int=1):\n",
    "    def scroll_to_end(wd):\n",
    "        wd.execute_script(\"window.scrollTo(0, document.body.scrollHeight);\")\n",
    "        time.sleep(sleep_between_interactions)    \n",
    "    \n",
    "    # build the google query\n",
    "    search_url = \"https://www.google.com/search?safe=off&site=&tbm=isch&source=hp&q={q}&oq={q}&gs_l=img\"\n",
    "\n",
    "    # load the page\n",
    "    wd.get(search_url.format(q=query))\n",
    "\n",
    "    image_urls = set()\n",
    "    image_count = 0\n",
    "    results_start = 0\n",
    "    while image_count < max_links_to_fetch:\n",
    "        scroll_to_end(wd)\n",
    "\n",
    "        # get all image thumbnail results\n",
    "        thumbnail_results = wd.find_elements_by_css_selector(\"img.Q4LuWd\")\n",
    "        number_results = len(thumbnail_results)\n",
    "        \n",
    "        print(f\"Found: {number_results} search results. Extracting links from {results_start}:{number_results}\")\n",
    "        \n",
    "        for img in thumbnail_results[results_start:number_results]:\n",
    "            # try to click every thumbnail such that we can get the real image behind it\n",
    "            try:\n",
    "                img.click()\n",
    "                time.sleep(sleep_between_interactions)\n",
    "            except Exception:\n",
    "                continue\n",
    "\n",
    "            # extract image urls    \n",
    "            actual_images = wd.find_elements_by_css_selector('img.n3VNCb')\n",
    "            for actual_image in actual_images:\n",
    "                if actual_image.get_attribute('src') and 'http' in actual_image.get_attribute('src'):\n",
    "                    image_urls.add(actual_image.get_attribute('src'))\n",
    "\n",
    "            image_count = len(image_urls)\n",
    "\n",
    "            if len(image_urls) >= max_links_to_fetch:\n",
    "                print(f\"Found: {len(image_urls)} image links, done!\")\n",
    "                break\n",
    "        else:\n",
    "            print(\"Found:\", len(image_urls), \"image links, looking for more ...\")\n",
    "            time.sleep(30)\n",
    "            return\n",
    "            load_more_button = wd.find_element_by_css_selector(\".mye4qd\")\n",
    "            if load_more_button:\n",
    "                wd.execute_script(\"document.querySelector('.mye4qd').click();\")\n",
    "\n",
    "        # move the result startpoint further down\n",
    "        results_start = len(thumbnail_results)\n",
    "\n",
    "    return image_urls"
   ]
  },
  {
   "cell_type": "code",
   "execution_count": 8,
   "metadata": {},
   "outputs": [
    {
     "name": "stdout",
     "output_type": "stream",
     "text": [
      "Requirement already satisfied: Pillow in c:\\users\\idafadmin\\appdata\\local\\continuum\\anaconda3\\lib\\site-packages (6.2.0)\n",
      "Note: you may need to restart the kernel to use updated packages.\n"
     ]
    }
   ],
   "source": [
    "pip install Pillow"
   ]
  },
  {
   "cell_type": "code",
   "execution_count": 2,
   "metadata": {},
   "outputs": [],
   "source": [
    "import PIL\n",
    "from PIL import Image\n",
    "import hashlib\n",
    "import os\n",
    "import time\n",
    "import io"
   ]
  },
  {
   "cell_type": "code",
   "execution_count": 5,
   "metadata": {},
   "outputs": [],
   "source": [
    "def persist_image(folder_path:str,url:str):\n",
    "    try:\n",
    "        image_content = requests.get(url).content\n",
    "\n",
    "    except Exception as e:\n",
    "        print(f\"ERROR - Could not download {url} - {e}\")\n",
    "\n",
    "    try:\n",
    "        image_file = io.BytesIO(image_content)\n",
    "        image = Image.open(image_file).convert('RGB')\n",
    "        file_path = os.path.join(folder_path,hashlib.sha1(image_content).hexdigest()[:10] + '.jpg')\n",
    "        with open(file_path, 'wb') as f:\n",
    "            image.save(f, \"JPEG\", quality=85)\n",
    "        print(f\"SUCCESS - saved {url} - as {file_path}\")\n",
    "    except Exception as e:\n",
    "        print(f\"ERROR - Could not save {url} - {e}\")"
   ]
  },
  {
   "cell_type": "code",
   "execution_count": 19,
   "metadata": {},
   "outputs": [],
   "source": [
    "def search_and_download(search_term:str,driver_path:str,target_path=r'C:\\Users\\iDAFAdmin\\OneDrive - Data Wrangling\\Desktop\\Scraper./images',number_images=90):\n",
    "    target_folder = os.path.join(target_path,'_'.join(search_term.lower().split(' ')))\n",
    "\n",
    "    if not os.path.exists(target_folder):\n",
    "        os.makedirs(target_folder)\n",
    "\n",
    "    with webdriver.Chrome(executable_path=driver_path) as wd:\n",
    "        res = fetch_image_urls(search_term, number_images, wd=wd, sleep_between_interactions=0.5)\n",
    "        \n",
    "    for elem in res:\n",
    "        persist_image(target_folder,elem)\n",
    "        return('Your Images are ready')"
   ]
  },
  {
   "cell_type": "code",
   "execution_count": 22,
   "metadata": {},
   "outputs": [
    {
     "name": "stdout",
     "output_type": "stream",
     "text": [
      "Found: 100 search results. Extracting links from 0:100\n",
      "Found: 90 image links, done!\n",
      "SUCCESS - saved https://encrypted-tbn0.gstatic.com/images?q=tbn:ANd9GcQzuWpGxgXIMU0-4Y0k0X3XcOnX5yk2sOoVFA&usqp=CAU - as C:\\Users\\iDAFAdmin\\OneDrive - Data Wrangling\\Desktop\\Scraper./images\\black_american_smiling_faces\\d1ee65af09.jpg\n",
      "SUCCESS - saved https://www.nicepng.com/png/detail/164-1649946_happy-smiling-emoticon-face-vector-smile.png - as C:\\Users\\iDAFAdmin\\OneDrive - Data Wrangling\\Desktop\\Scraper./images\\black_american_smiling_faces\\984eb96d3d.jpg\n",
      "SUCCESS - saved https://encrypted-tbn0.gstatic.com/images?q=tbn:ANd9GcTk7lo4dgvLpWTp_uO68IQSsFVTqS1eoYVYHA&usqp=CAU - as C:\\Users\\iDAFAdmin\\OneDrive - Data Wrangling\\Desktop\\Scraper./images\\black_american_smiling_faces\\8ea6a68d45.jpg\n",
      "SUCCESS - saved https://encrypted-tbn0.gstatic.com/images?q=tbn:ANd9GcREFRC2MF_Pp86xqH_HsCRVRL1qMV8PcMAI2A&usqp=CAU - as C:\\Users\\iDAFAdmin\\OneDrive - Data Wrangling\\Desktop\\Scraper./images\\black_american_smiling_faces\\10857a4916.jpg\n",
      "SUCCESS - saved https://encrypted-tbn0.gstatic.com/images?q=tbn:ANd9GcSqsuV_cGtvW2lkIEaSydxnrW0Ykq1sRQOjUg&usqp=CAU - as C:\\Users\\iDAFAdmin\\OneDrive - Data Wrangling\\Desktop\\Scraper./images\\black_american_smiling_faces\\874157b379.jpg\n",
      "SUCCESS - saved https://encrypted-tbn0.gstatic.com/images?q=tbn:ANd9GcRshBO6XRZra8qXsN6NsGaO-UIQZVs3JXMTPQ&usqp=CAU - as C:\\Users\\iDAFAdmin\\OneDrive - Data Wrangling\\Desktop\\Scraper./images\\black_american_smiling_faces\\84dc5922fa.jpg\n",
      "SUCCESS - saved https://encrypted-tbn0.gstatic.com/images?q=tbn:ANd9GcT5mbc4jH4cCAltMDw9bAoqcAF-XrV86B_3vg&usqp=CAU - as C:\\Users\\iDAFAdmin\\OneDrive - Data Wrangling\\Desktop\\Scraper./images\\black_american_smiling_faces\\1721b3c321.jpg\n",
      "SUCCESS - saved https://encrypted-tbn0.gstatic.com/images?q=tbn:ANd9GcR-981FYabqnxcAoH-vVBi6qiBs7hOXC7nhHw&usqp=CAU - as C:\\Users\\iDAFAdmin\\OneDrive - Data Wrangling\\Desktop\\Scraper./images\\black_american_smiling_faces\\453f80cfd4.jpg\n",
      "SUCCESS - saved https://encrypted-tbn0.gstatic.com/images?q=tbn:ANd9GcTb9oLdEEpcMwfXq0F6xmd03JV-MnYsqEZoEw&usqp=CAU - as C:\\Users\\iDAFAdmin\\OneDrive - Data Wrangling\\Desktop\\Scraper./images\\black_american_smiling_faces\\0766057b14.jpg\n",
      "SUCCESS - saved https://image.shutterstock.com/image-photo/young-african-american-businesswoman-smiling-260nw-1932382634.jpg - as C:\\Users\\iDAFAdmin\\OneDrive - Data Wrangling\\Desktop\\Scraper./images\\black_american_smiling_faces\\d3abee870b.jpg\n",
      "SUCCESS - saved https://image.shutterstock.com/image-photo/smiling-black-man-260nw-21892075.jpg - as C:\\Users\\iDAFAdmin\\OneDrive - Data Wrangling\\Desktop\\Scraper./images\\black_american_smiling_faces\\3d74db25bf.jpg\n",
      "SUCCESS - saved https://thumbs-prod.si-cdn.com/cbQjBu4sVSJBdcwJiNAw2GTDWSM=/800x600/filters:no_upscale()/https://public-media.si-cdn.com/filer/Design-Decoded-Smiley-Face-631%20copy.jpg - as C:\\Users\\iDAFAdmin\\OneDrive - Data Wrangling\\Desktop\\Scraper./images\\black_american_smiling_faces\\12f3e428da.jpg\n",
      "SUCCESS - saved https://encrypted-tbn0.gstatic.com/images?q=tbn:ANd9GcTObHbYPiz-RCzWAKaRUVhqW2tT5chwJ8r9Cg&usqp=CAU - as C:\\Users\\iDAFAdmin\\OneDrive - Data Wrangling\\Desktop\\Scraper./images\\black_american_smiling_faces\\235b1cb65e.jpg\n",
      "SUCCESS - saved https://i.pinimg.com/originals/8b/a3/ac/8ba3ac545287f74f1942c50fa9379018.jpg - as C:\\Users\\iDAFAdmin\\OneDrive - Data Wrangling\\Desktop\\Scraper./images\\black_american_smiling_faces\\d1943b20ab.jpg\n",
      "SUCCESS - saved https://encrypted-tbn0.gstatic.com/images?q=tbn:ANd9GcQ2Mj6URCYVyTh3eDNy6J8Tnwj2n2GgDzNYjw&usqp=CAU - as C:\\Users\\iDAFAdmin\\OneDrive - Data Wrangling\\Desktop\\Scraper./images\\black_american_smiling_faces\\98f2d984ab.jpg\n",
      "SUCCESS - saved https://encrypted-tbn0.gstatic.com/images?q=tbn:ANd9GcSqdEZ3ps5tTTVvOg4X7KsRL7p4_YqCgfF1Fg&usqp=CAU - as C:\\Users\\iDAFAdmin\\OneDrive - Data Wrangling\\Desktop\\Scraper./images\\black_american_smiling_faces\\904fe5aa78.jpg\n",
      "SUCCESS - saved https://encrypted-tbn0.gstatic.com/images?q=tbn:ANd9GcSuGl5i3W_AhCMGJ7C8wwKSAtUtcj8vwGkiIg&usqp=CAU - as C:\\Users\\iDAFAdmin\\OneDrive - Data Wrangling\\Desktop\\Scraper./images\\black_american_smiling_faces\\79c89326c0.jpg\n",
      "SUCCESS - saved http://clipartmag.com/images/girl-face-clipart-black-and-white-31.jpg - as C:\\Users\\iDAFAdmin\\OneDrive - Data Wrangling\\Desktop\\Scraper./images\\black_american_smiling_faces\\89760a6a9d.jpg\n",
      "SUCCESS - saved https://encrypted-tbn0.gstatic.com/images?q=tbn:ANd9GcTJBKYVzUrToqrtB5P2tED5XBkyyMlGHsOMdg&usqp=CAU - as C:\\Users\\iDAFAdmin\\OneDrive - Data Wrangling\\Desktop\\Scraper./images\\black_american_smiling_faces\\6132d20605.jpg\n",
      "SUCCESS - saved https://encrypted-tbn0.gstatic.com/images?q=tbn:ANd9GcQJF4DYBa05sh_zHxEbIAdqfVrAZLEwt561rA&usqp=CAU - as C:\\Users\\iDAFAdmin\\OneDrive - Data Wrangling\\Desktop\\Scraper./images\\black_american_smiling_faces\\7c05c15bef.jpg\n",
      "SUCCESS - saved https://image1.masterfile.com/getImage/NzAwLTAxMTg1MDIyZW4uMDAwMDAwMDA=AJirEc/700-01185022en_Masterfile.jpg - as C:\\Users\\iDAFAdmin\\OneDrive - Data Wrangling\\Desktop\\Scraper./images\\black_american_smiling_faces\\fbc92908f1.jpg\n",
      "SUCCESS - saved https://encrypted-tbn0.gstatic.com/images?q=tbn:ANd9GcRjdMro9DrBCuSDjh2C4VbtKe-ar2GaNuRMnQ&usqp=CAU - as C:\\Users\\iDAFAdmin\\OneDrive - Data Wrangling\\Desktop\\Scraper./images\\black_american_smiling_faces\\bafcc58127.jpg\n",
      "SUCCESS - saved https://encrypted-tbn0.gstatic.com/images?q=tbn:ANd9GcQ3sQ_oyYZjNy_rAlPIqSL13E9LTh4VedkZfg&usqp=CAU - as C:\\Users\\iDAFAdmin\\OneDrive - Data Wrangling\\Desktop\\Scraper./images\\black_american_smiling_faces\\945ec7cfc7.jpg\n",
      "SUCCESS - saved http://elementalesthetics.com/wp-content/uploads/african-american-smiling-xlarge.jpg - as C:\\Users\\iDAFAdmin\\OneDrive - Data Wrangling\\Desktop\\Scraper./images\\black_american_smiling_faces\\bf19987c54.jpg\n",
      "SUCCESS - saved https://i.pinimg.com/originals/66/21/17/6621170b3102db691ce13c0a3dde27d3.jpg - as C:\\Users\\iDAFAdmin\\OneDrive - Data Wrangling\\Desktop\\Scraper./images\\black_american_smiling_faces\\7da7167265.jpg\n",
      "SUCCESS - saved https://encrypted-tbn0.gstatic.com/images?q=tbn:ANd9GcTkp9oaAbaVBimN2ripiHWVTIxWO69kW1OBKg&usqp=CAU - as C:\\Users\\iDAFAdmin\\OneDrive - Data Wrangling\\Desktop\\Scraper./images\\black_american_smiling_faces\\8ea994245b.jpg\n",
      "SUCCESS - saved https://encrypted-tbn0.gstatic.com/images?q=tbn:ANd9GcSpsMvpXPdNCp4hmKnbA0HfpYpQt6QA6z0mSw&usqp=CAU - as C:\\Users\\iDAFAdmin\\OneDrive - Data Wrangling\\Desktop\\Scraper./images\\black_american_smiling_faces\\094f02924a.jpg\n",
      "SUCCESS - saved https://encrypted-tbn0.gstatic.com/images?q=tbn:ANd9GcQ9fazTA_EBSj49Pbdr-8WbaXd07-qH_YqEEQ&usqp=CAU - as C:\\Users\\iDAFAdmin\\OneDrive - Data Wrangling\\Desktop\\Scraper./images\\black_american_smiling_faces\\ecc7657dfd.jpg\n",
      "SUCCESS - saved https://media.gettyimages.com/photos/portrait-of-smiling-african-american-female-businesswoman-on-white-picture-id1314549805?s=612x612 - as C:\\Users\\iDAFAdmin\\OneDrive - Data Wrangling\\Desktop\\Scraper./images\\black_american_smiling_faces\\3108b52a38.jpg\n",
      "SUCCESS - saved https://images.unsplash.com/photo-1499651681375-8afc5a4db253?ixid=MnwxMjA3fDB8MHxzZWFyY2h8NHx8YmxhY2slMjB3b21hbiUyMHNtaWxpbmd8ZW58MHx8MHx8&ixlib=rb-1.2.1&w=1000&q=80 - as C:\\Users\\iDAFAdmin\\OneDrive - Data Wrangling\\Desktop\\Scraper./images\\black_american_smiling_faces\\51f31e58f4.jpg\n",
      "SUCCESS - saved https://media.gettyimages.com/photos/my-smile-is-always-visible-picture-id1138619101?s=612x612 - as C:\\Users\\iDAFAdmin\\OneDrive - Data Wrangling\\Desktop\\Scraper./images\\black_american_smiling_faces\\3192cf873c.jpg\n",
      "SUCCESS - saved https://image1.masterfile.com/getImage/NjkzLTA2Mzc5MjYzZW4uMDAwMDAwMDA=AKymBb/693-06379263en_Masterfile.jpg - as C:\\Users\\iDAFAdmin\\OneDrive - Data Wrangling\\Desktop\\Scraper./images\\black_american_smiling_faces\\242a8c3926.jpg\n",
      "SUCCESS - saved https://ak.picdn.net/shutterstock/videos/12192341/thumb/1.jpg - as C:\\Users\\iDAFAdmin\\OneDrive - Data Wrangling\\Desktop\\Scraper./images\\black_american_smiling_faces\\f7e7675270.jpg\n",
      "SUCCESS - saved https://images.unsplash.com/photo-1583123810408-23e7b5d1af9f?ixid=MnwxMjA3fDB8MHxzZWFyY2h8Mjd8fGJsYWNrJTIwbWVuJTIwc21pbGV8ZW58MHx8MHx8&ixlib=rb-1.2.1&w=1000&q=80 - as C:\\Users\\iDAFAdmin\\OneDrive - Data Wrangling\\Desktop\\Scraper./images\\black_american_smiling_faces\\52b3a96d0c.jpg\n",
      "SUCCESS - saved https://encrypted-tbn0.gstatic.com/images?q=tbn:ANd9GcRdISLejxzPmW3QVnbcZ9FEZMmuFhUly_OraA&usqp=CAU - as C:\\Users\\iDAFAdmin\\OneDrive - Data Wrangling\\Desktop\\Scraper./images\\black_american_smiling_faces\\3ca0e0b625.jpg\n"
     ]
    },
    {
     "name": "stdout",
     "output_type": "stream",
     "text": [
      "SUCCESS - saved https://ak.picdn.net/shutterstock/videos/8541835/thumb/11.jpg - as C:\\Users\\iDAFAdmin\\OneDrive - Data Wrangling\\Desktop\\Scraper./images\\black_american_smiling_faces\\6e5c96c83c.jpg\n",
      "SUCCESS - saved https://media.istockphoto.com/photos/happy-african-family-looking-at-camera-on-bed-top-view-picture-id1158481708 - as C:\\Users\\iDAFAdmin\\OneDrive - Data Wrangling\\Desktop\\Scraper./images\\black_american_smiling_faces\\8a9389a57b.jpg\n",
      "SUCCESS - saved https://upload.wikimedia.org/wikipedia/commons/thumb/8/84/A_smiley_face_balloon_from_a_Gregory_FUNNY-B%27LOONS_ad_on_page_20_of_The_Billboard_March_18_1922.jpg/440px-A_smiley_face_balloon_from_a_Gregory_FUNNY-B%27LOONS_ad_on_page_20_of_The_Billboard_March_18_1922.jpg - as C:\\Users\\iDAFAdmin\\OneDrive - Data Wrangling\\Desktop\\Scraper./images\\black_american_smiling_faces\\17732603da.jpg\n",
      "SUCCESS - saved https://image.shutterstock.com/image-photo/close-portrait-smiling-young-african-260nw-383193250.jpg - as C:\\Users\\iDAFAdmin\\OneDrive - Data Wrangling\\Desktop\\Scraper./images\\black_american_smiling_faces\\af5c765142.jpg\n",
      "SUCCESS - saved https://encrypted-tbn0.gstatic.com/images?q=tbn:ANd9GcRneqjwrTAbpKO7m7U_hFvvMXb-y2IPHj3fvg&usqp=CAU - as C:\\Users\\iDAFAdmin\\OneDrive - Data Wrangling\\Desktop\\Scraper./images\\black_american_smiling_faces\\9edd18b361.jpg\n",
      "SUCCESS - saved https://encrypted-tbn0.gstatic.com/images?q=tbn:ANd9GcRnhyaSY7fE5FP0E51GinbMd60opVhGPQzy1Q&usqp=CAU - as C:\\Users\\iDAFAdmin\\OneDrive - Data Wrangling\\Desktop\\Scraper./images\\black_american_smiling_faces\\cb5692a443.jpg\n",
      "SUCCESS - saved https://encrypted-tbn0.gstatic.com/images?q=tbn:ANd9GcR28Kyq5zBaaBdvxgV8QilcpyJSM58yEdYwvQ&usqp=CAU - as C:\\Users\\iDAFAdmin\\OneDrive - Data Wrangling\\Desktop\\Scraper./images\\black_american_smiling_faces\\602dee9cdb.jpg\n",
      "SUCCESS - saved https://media.istockphoto.com/photos/portrait-of-cheerful-bearded-black-man-over-yellow-background-picture-id1184187261?k=6&m=1184187261&s=612x612&w=0&h=kAR9bRHxa9XqXCPeTCRZoEPGcgrDMiCqdjWaf7qLNgQ= - as C:\\Users\\iDAFAdmin\\OneDrive - Data Wrangling\\Desktop\\Scraper./images\\black_american_smiling_faces\\107b23af85.jpg\n",
      "SUCCESS - saved https://encrypted-tbn0.gstatic.com/images?q=tbn:ANd9GcSjBG9jdx8YgjCENuLpONzpPGudlM7XIaHvJQ&usqp=CAU - as C:\\Users\\iDAFAdmin\\OneDrive - Data Wrangling\\Desktop\\Scraper./images\\black_american_smiling_faces\\c5e61bc0bd.jpg\n",
      "SUCCESS - saved https://media.istockphoto.com/photos/side-portrait-of-laughing-african-american-man-looking-up-picture-id1142003972?k=6&m=1142003972&s=612x612&w=0&h=nSvELVfVMG6UbxvH8vPs-iVYR2eTLQZM0alFk2ygfmU= - as C:\\Users\\iDAFAdmin\\OneDrive - Data Wrangling\\Desktop\\Scraper./images\\black_american_smiling_faces\\d84b929503.jpg\n",
      "SUCCESS - saved https://encrypted-tbn0.gstatic.com/images?q=tbn:ANd9GcR9Lqs9V06Pw4P2yAlAnWhJ-21ZPhoj5EfuzQ&usqp=CAU - as C:\\Users\\iDAFAdmin\\OneDrive - Data Wrangling\\Desktop\\Scraper./images\\black_american_smiling_faces\\c10cb2a2cc.jpg\n",
      "SUCCESS - saved https://image.shutterstock.com/image-photo/portrait-real-happy-african-black-260nw-509863939.jpg - as C:\\Users\\iDAFAdmin\\OneDrive - Data Wrangling\\Desktop\\Scraper./images\\black_american_smiling_faces\\e12d4cd0af.jpg\n",
      "SUCCESS - saved https://encrypted-tbn0.gstatic.com/images?q=tbn:ANd9GcRE4a01QobItHltMkTpAcpbAOydsLi3mZSf8A&usqp=CAU - as C:\\Users\\iDAFAdmin\\OneDrive - Data Wrangling\\Desktop\\Scraper./images\\black_american_smiling_faces\\9d0fae8914.jpg\n",
      "SUCCESS - saved https://encrypted-tbn0.gstatic.com/images?q=tbn:ANd9GcTX4g9Xz0xjzGvpCe8UG216A7RrQNgabhcqCA&usqp=CAU - as C:\\Users\\iDAFAdmin\\OneDrive - Data Wrangling\\Desktop\\Scraper./images\\black_american_smiling_faces\\948d28ca39.jpg\n",
      "SUCCESS - saved https://encrypted-tbn0.gstatic.com/images?q=tbn:ANd9GcT3-1sR-50FgH0GEBecdOP-nRRAp03cGy3BQw&usqp=CAU - as C:\\Users\\iDAFAdmin\\OneDrive - Data Wrangling\\Desktop\\Scraper./images\\black_american_smiling_faces\\c4caf863df.jpg\n",
      "SUCCESS - saved https://encrypted-tbn0.gstatic.com/images?q=tbn:ANd9GcQ2pROogbMKShBDexDa1oZRjFW8Om2B6DJLlQ&usqp=CAU - as C:\\Users\\iDAFAdmin\\OneDrive - Data Wrangling\\Desktop\\Scraper./images\\black_american_smiling_faces\\0924fe5b19.jpg\n",
      "SUCCESS - saved https://encrypted-tbn0.gstatic.com/images?q=tbn:ANd9GcT-rqR-1bg0SglPkLhn9gcsA0H2C_rT_1s0lQ&usqp=CAU - as C:\\Users\\iDAFAdmin\\OneDrive - Data Wrangling\\Desktop\\Scraper./images\\black_american_smiling_faces\\58204c8b93.jpg\n",
      "SUCCESS - saved https://images.unsplash.com/photo-1507152832244-10d45c7eda57?ixid=MnwxMjA3fDB8MHxzZWFyY2h8MXx8YmxhY2slMjB3b21hbiUyMHNtaWxpbmd8ZW58MHx8MHx8&ixlib=rb-1.2.1&w=1000&q=80 - as C:\\Users\\iDAFAdmin\\OneDrive - Data Wrangling\\Desktop\\Scraper./images\\black_american_smiling_faces\\e90db3c938.jpg\n",
      "SUCCESS - saved https://image.shutterstock.com/image-photo/image-handsome-smiling-young-african-260nw-722913181.jpg - as C:\\Users\\iDAFAdmin\\OneDrive - Data Wrangling\\Desktop\\Scraper./images\\black_american_smiling_faces\\694ffbaf28.jpg\n",
      "SUCCESS - saved https://encrypted-tbn0.gstatic.com/images?q=tbn:ANd9GcS5l1O8FqO_xeSK5p0WCLIq_phdBRor5gNRVw&usqp=CAU - as C:\\Users\\iDAFAdmin\\OneDrive - Data Wrangling\\Desktop\\Scraper./images\\black_american_smiling_faces\\f0c12f5d4c.jpg\n",
      "SUCCESS - saved https://images.unsplash.com/photo-1508002366005-75a695ee2d17?ixid=MnwxMjA3fDB8MHxzZWFyY2h8OXx8aGFwcHklMjB3b21hbnxlbnwwfHwwfHw%3D&ixlib=rb-1.2.1&w=1000&q=80 - as C:\\Users\\iDAFAdmin\\OneDrive - Data Wrangling\\Desktop\\Scraper./images\\black_american_smiling_faces\\9479c31331.jpg\n",
      "SUCCESS - saved https://images.unsplash.com/photo-1492462543947-040389c4a66c?ixid=MnwxMjA3fDB8MHxzZWFyY2h8MXx8YmxhY2slMjBtZW4lMjBzbWlsZXxlbnwwfHwwfHw%3D&ixlib=rb-1.2.1&w=1000&q=80 - as C:\\Users\\iDAFAdmin\\OneDrive - Data Wrangling\\Desktop\\Scraper./images\\black_american_smiling_faces\\cda7ef9eca.jpg\n",
      "SUCCESS - saved https://encrypted-tbn0.gstatic.com/images?q=tbn:ANd9GcR80Oa--KpgNegzXzlxR76NXs_iNBbM40VqIg&usqp=CAU - as C:\\Users\\iDAFAdmin\\OneDrive - Data Wrangling\\Desktop\\Scraper./images\\black_american_smiling_faces\\0811a7af03.jpg\n",
      "SUCCESS - saved https://encrypted-tbn0.gstatic.com/images?q=tbn:ANd9GcRB6PnuEhk6dqM-6f6vmwTemn1M4O9JdUEqMA&usqp=CAU - as C:\\Users\\iDAFAdmin\\OneDrive - Data Wrangling\\Desktop\\Scraper./images\\black_american_smiling_faces\\8458006fd2.jpg\n",
      "SUCCESS - saved https://i.pinimg.com/originals/36/b0/31/36b03144157237879397dfa1a4446e59.gif - as C:\\Users\\iDAFAdmin\\OneDrive - Data Wrangling\\Desktop\\Scraper./images\\black_american_smiling_faces\\ec5756c859.jpg\n",
      "SUCCESS - saved https://encrypted-tbn0.gstatic.com/images?q=tbn:ANd9GcSOrBoM-kvILxYPpqPw5VodxcEIYf7s8xrxHA&usqp=CAU - as C:\\Users\\iDAFAdmin\\OneDrive - Data Wrangling\\Desktop\\Scraper./images\\black_american_smiling_faces\\3113383ae1.jpg\n",
      "SUCCESS - saved https://encrypted-tbn0.gstatic.com/images?q=tbn:ANd9GcS1wG6TUt_CJ3lLXpYM65OwZkzfhz4YgXmAwg&usqp=CAU - as C:\\Users\\iDAFAdmin\\OneDrive - Data Wrangling\\Desktop\\Scraper./images\\black_american_smiling_faces\\4de0e47b56.jpg\n",
      "SUCCESS - saved https://images.unsplash.com/photo-1522529599102-193c0d76b5b6?ixid=MnwxMjA3fDB8MHxzZWFyY2h8Mnx8YWZyaWNhbiUyMGFtZXJpY2FufGVufDB8fDB8fA%3D%3D&ixlib=rb-1.2.1&w=1000&q=80 - as C:\\Users\\iDAFAdmin\\OneDrive - Data Wrangling\\Desktop\\Scraper./images\\black_american_smiling_faces\\67c5164259.jpg\n",
      "SUCCESS - saved https://encrypted-tbn0.gstatic.com/images?q=tbn:ANd9GcQhbRj8Au50btt3ImV9TfwDI51gFcgIlkepoA&usqp=CAU - as C:\\Users\\iDAFAdmin\\OneDrive - Data Wrangling\\Desktop\\Scraper./images\\black_american_smiling_faces\\93ce90496a.jpg\n",
      "SUCCESS - saved https://media.istockphoto.com/photos/close-up-cute-african-american-baby-outdoors-picture-id182834373?k=6&m=182834373&s=612x612&w=0&h=lqu7q9f5CfwnbMuccXkvaph4i00cBSR6_1nXhVhi7G8= - as C:\\Users\\iDAFAdmin\\OneDrive - Data Wrangling\\Desktop\\Scraper./images\\black_american_smiling_faces\\caa09afd93.jpg\n",
      "SUCCESS - saved https://encrypted-tbn0.gstatic.com/images?q=tbn:ANd9GcSIZA2pYFtY-JmdwWPyQ0_yqfZRc_75d9KntA&usqp=CAU - as C:\\Users\\iDAFAdmin\\OneDrive - Data Wrangling\\Desktop\\Scraper./images\\black_american_smiling_faces\\f0c537fd18.jpg\n",
      "SUCCESS - saved https://thumbs.dreamstime.com/z/smiling-face-man-icon-linear-logo-avatar-black-simple-illustration-cartoon-human-head-user-interface-personal-profile-179150549.jpg - as C:\\Users\\iDAFAdmin\\OneDrive - Data Wrangling\\Desktop\\Scraper./images\\black_american_smiling_faces\\a63184657a.jpg\n",
      "SUCCESS - saved https://encrypted-tbn0.gstatic.com/images?q=tbn:ANd9GcTPH_34flSE_dVZkHU4rXunXEVrajfIxfB9Qw&usqp=CAU - as C:\\Users\\iDAFAdmin\\OneDrive - Data Wrangling\\Desktop\\Scraper./images\\black_american_smiling_faces\\1072f80691.jpg\n"
     ]
    },
    {
     "name": "stdout",
     "output_type": "stream",
     "text": [
      "SUCCESS - saved https://image1.masterfile.com/getImage/NzAwLTAzODQ4ODgyZW4uMDAwMDAwMDA=AB6sdi/700-03848882en_Masterfile.jpg - as C:\\Users\\iDAFAdmin\\OneDrive - Data Wrangling\\Desktop\\Scraper./images\\black_american_smiling_faces\\44aa0277a8.jpg\n",
      "SUCCESS - saved https://encrypted-tbn0.gstatic.com/images?q=tbn:ANd9GcTphFNLs_jhT0BquUCrhQ4ATt-oVUPVMVbbWA&usqp=CAU - as C:\\Users\\iDAFAdmin\\OneDrive - Data Wrangling\\Desktop\\Scraper./images\\black_american_smiling_faces\\3a8f0bc5a3.jpg\n",
      "SUCCESS - saved https://us.123rf.com/450wm/kurtvate/kurtvate1603/kurtvate160300029/54026072-the-face-of-a-beautiful-young-african-american-woman-in-closeup-smiling-with-curly-black-hair.jpg?ver=6 - as C:\\Users\\iDAFAdmin\\OneDrive - Data Wrangling\\Desktop\\Scraper./images\\black_american_smiling_faces\\3e915878a8.jpg\n",
      "SUCCESS - saved https://encrypted-tbn0.gstatic.com/images?q=tbn:ANd9GcTW4iSbnx3DfMGqVoqYjvy4JEL_2t3fmab7Zg&usqp=CAU - as C:\\Users\\iDAFAdmin\\OneDrive - Data Wrangling\\Desktop\\Scraper./images\\black_american_smiling_faces\\b86bbec6c5.jpg\n",
      "SUCCESS - saved https://encrypted-tbn0.gstatic.com/images?q=tbn:ANd9GcQSBPbwFA58jlqE34BJ7peDfI9AGoeyUp4DyA&usqp=CAU - as C:\\Users\\iDAFAdmin\\OneDrive - Data Wrangling\\Desktop\\Scraper./images\\black_american_smiling_faces\\5ff9597ffc.jpg\n",
      "SUCCESS - saved https://image1.masterfile.com/getImage/NjQwLTAxMzU1OTEzZW4uMDAwMDAwMDA=AAebJ5/640-01355913en_Masterfile.jpg - as C:\\Users\\iDAFAdmin\\OneDrive - Data Wrangling\\Desktop\\Scraper./images\\black_american_smiling_faces\\8f9ba03a65.jpg\n",
      "SUCCESS - saved https://encrypted-tbn0.gstatic.com/images?q=tbn:ANd9GcRBh-bgqK8y1PRnEK06Ca4Z-evRQQC30dERsg&usqp=CAU - as C:\\Users\\iDAFAdmin\\OneDrive - Data Wrangling\\Desktop\\Scraper./images\\black_american_smiling_faces\\e294bf4b7f.jpg\n",
      "SUCCESS - saved https://encrypted-tbn0.gstatic.com/images?q=tbn:ANd9GcSC6iVtmMUvPaVStYx_CU0vnTHrtPy-g7NUDg&usqp=CAU - as C:\\Users\\iDAFAdmin\\OneDrive - Data Wrangling\\Desktop\\Scraper./images\\black_american_smiling_faces\\ca9065c0f8.jpg\n",
      "SUCCESS - saved https://thumbs.dreamstime.com/b/cute-happy-black-girl-head-character-vector-illustration-design-cute-happy-black-girl-head-character-142345194.jpg - as C:\\Users\\iDAFAdmin\\OneDrive - Data Wrangling\\Desktop\\Scraper./images\\black_american_smiling_faces\\43bf9c4b38.jpg\n",
      "SUCCESS - saved https://encrypted-tbn0.gstatic.com/images?q=tbn:ANd9GcTRzHXcLDDf_1KPo9a-Jflc6xTaJjZKSOw8vQ&usqp=CAU - as C:\\Users\\iDAFAdmin\\OneDrive - Data Wrangling\\Desktop\\Scraper./images\\black_american_smiling_faces\\e8164fbbfb.jpg\n",
      "SUCCESS - saved https://encrypted-tbn0.gstatic.com/images?q=tbn:ANd9GcR8D3jaeNKNhowJDYYaBGZuAdDlP2w_PNqbmw&usqp=CAU - as C:\\Users\\iDAFAdmin\\OneDrive - Data Wrangling\\Desktop\\Scraper./images\\black_american_smiling_faces\\cb75984d0e.jpg\n",
      "SUCCESS - saved https://www.nicepng.com/png/detail/130-1307741_smiley-face-clipart-black-and-white-black-outline.png - as C:\\Users\\iDAFAdmin\\OneDrive - Data Wrangling\\Desktop\\Scraper./images\\black_american_smiling_faces\\5995538157.jpg\n",
      "SUCCESS - saved https://i.pinimg.com/originals/a0/c5/17/a0c5179197a5dff66d12b74fd74d2507.jpg - as C:\\Users\\iDAFAdmin\\OneDrive - Data Wrangling\\Desktop\\Scraper./images\\black_american_smiling_faces\\ea1956514f.jpg\n",
      "SUCCESS - saved https://encrypted-tbn0.gstatic.com/images?q=tbn:ANd9GcSxwyx-6d1UADW0h1KxSfeefv3_OhBsd4acFQ&usqp=CAU - as C:\\Users\\iDAFAdmin\\OneDrive - Data Wrangling\\Desktop\\Scraper./images\\black_american_smiling_faces\\bf2ee5fd07.jpg\n",
      "SUCCESS - saved https://encrypted-tbn0.gstatic.com/images?q=tbn:ANd9GcSmK-M8ayPP2WoL4I1PNtoERQ3H7RZM2G72gw&usqp=CAU - as C:\\Users\\iDAFAdmin\\OneDrive - Data Wrangling\\Desktop\\Scraper./images\\black_american_smiling_faces\\7fe2cb7cee.jpg\n",
      "SUCCESS - saved https://ak.picdn.net/shutterstock/videos/4386257/thumb/1.jpg - as C:\\Users\\iDAFAdmin\\OneDrive - Data Wrangling\\Desktop\\Scraper./images\\black_american_smiling_faces\\1a682c2680.jpg\n",
      "SUCCESS - saved https://encrypted-tbn0.gstatic.com/images?q=tbn:ANd9GcRu4zkCId_DcqK6iUIiSZ8JcROLu7_LvtND3g&usqp=CAU - as C:\\Users\\iDAFAdmin\\OneDrive - Data Wrangling\\Desktop\\Scraper./images\\black_american_smiling_faces\\f6409e231d.jpg\n",
      "SUCCESS - saved https://cdn1.vectorstock.com/i/1000x1000/15/20/african-men-smiling-guy-face-avatar-with-smile-vector-13491520.jpg - as C:\\Users\\iDAFAdmin\\OneDrive - Data Wrangling\\Desktop\\Scraper./images\\black_american_smiling_faces\\184240b44a.jpg\n",
      "SUCCESS - saved https://encrypted-tbn0.gstatic.com/images?q=tbn:ANd9GcQYkM0AVokU5PiQy1fkn911XpzHVPA5TKrh0A&usqp=CAU - as C:\\Users\\iDAFAdmin\\OneDrive - Data Wrangling\\Desktop\\Scraper./images\\black_american_smiling_faces\\9bcd8db11a.jpg\n",
      "SUCCESS - saved https://i.pinimg.com/736x/99/32/d4/9932d4f91777fc61b97d7e5da302cea7.jpg - as C:\\Users\\iDAFAdmin\\OneDrive - Data Wrangling\\Desktop\\Scraper./images\\black_american_smiling_faces\\9bf7362983.jpg\n",
      "SUCCESS - saved https://encrypted-tbn0.gstatic.com/images?q=tbn:ANd9GcT7nQRDuqvTZaGkQJy3-cbwv2ia8C2I_0ExqA&usqp=CAU - as C:\\Users\\iDAFAdmin\\OneDrive - Data Wrangling\\Desktop\\Scraper./images\\black_american_smiling_faces\\8eede3375d.jpg\n",
      "SUCCESS - saved https://i.pinimg.com/originals/67/f2/89/67f2899f14b7c3f628d1b5fcefce58bb.jpg - as C:\\Users\\iDAFAdmin\\OneDrive - Data Wrangling\\Desktop\\Scraper./images\\black_american_smiling_faces\\ca7679761a.jpg\n"
     ]
    }
   ],
   "source": [
    "search_term = 'Black American smiling faces'\n",
    "\n",
    "search_and_download(search_term = search_term,\n",
    "                   driver_path = DRIVER_PATH\n",
    "                   )\n"
   ]
  },
  {
   "cell_type": "code",
   "execution_count": null,
   "metadata": {},
   "outputs": [],
   "source": [
    "def filter_students(class_names):\n",
    "\tnew_class_names = []\n",
    "\tfor c in class_names:\n",
    "\t\tif c.startswith(\"E\"):\n",
    "\t\t\tnew_class_names.append(c)"
   ]
  },
  {
   "cell_type": "code",
   "execution_count": 1,
   "metadata": {},
   "outputs": [
    {
     "name": "stdout",
     "output_type": "stream",
     "text": [
      "Every great advance in science has issued from a new audacity of the imagination.\n",
      "     - John Dewey\n"
     ]
    }
   ],
   "source": [
    "#Random Quotes generator\n",
    "import requests\n",
    "\n",
    "url = 'https://api.quotable.io/random'\n",
    "\n",
    "r = requests.get(url)\n",
    "quote = r.json()\n",
    "#print(quote)\n",
    "print(quote['content'])\n",
    "print('     -',quote['author'])"
   ]
  },
  {
   "cell_type": "code",
   "execution_count": null,
   "metadata": {},
   "outputs": [],
   "source": []
  }
 ],
 "metadata": {
  "kernelspec": {
   "display_name": "Python 3",
   "language": "python",
   "name": "python3"
  },
  "language_info": {
   "codemirror_mode": {
    "name": "ipython",
    "version": 3
   },
   "file_extension": ".py",
   "mimetype": "text/x-python",
   "name": "python",
   "nbconvert_exporter": "python",
   "pygments_lexer": "ipython3",
   "version": "3.7.4"
  }
 },
 "nbformat": 4,
 "nbformat_minor": 2
}
